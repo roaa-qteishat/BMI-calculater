{
  "nbformat": 4,
  "nbformat_minor": 0,
  "metadata": {
    "colab": {
      "name": "BMI calculater.ipynb",
      "provenance": [],
      "authorship_tag": "ABX9TyNH87WquiE9czKdApKM1p8R",
      "include_colab_link": true
    },
    "kernelspec": {
      "name": "python3",
      "display_name": "Python 3"
    },
    "language_info": {
      "name": "python"
    }
  },
  "cells": [
    {
      "cell_type": "markdown",
      "metadata": {
        "id": "view-in-github",
        "colab_type": "text"
      },
      "source": [
        "<a href=\"https://colab.research.google.com/github/roaa-qteishat/BMI-calculater/blob/main/BMI_calculater.ipynb\" target=\"_parent\"><img src=\"https://colab.research.google.com/assets/colab-badge.svg\" alt=\"Open In Colab\"/></a>"
      ]
    },
    {
      "cell_type": "code",
      "execution_count": 6,
      "metadata": {
        "colab": {
          "base_uri": "https://localhost:8080/"
        },
        "id": "2n_ZbY7PLpLg",
        "outputId": "9ca348fe-e0fe-45df-cbe2-85c4d74a9114"
      },
      "outputs": [
        {
          "output_type": "stream",
          "name": "stdout",
          "text": [
            "Please enter your weight=58\n",
            "Please enter your hight=1.53\n",
            "Normal\n"
          ]
        }
      ],
      "source": [
        "weight=int(input(\"Please enter your weight=\"))\n",
        "hight=float(input(\"Please enter your hight=\"))\n",
        "formula=weight/(hight*hight)\n",
        "if formula<18.5:\n",
        "  print(\"Underweight\")\n",
        "elif formula>=18.5:\n",
        "  print(\"Normal\")\n",
        "elif formula>=25 and formula<30 :\n",
        "  print(\"overweight\")\n",
        "elif formula>=30:\n",
        "  print(\"Obesity\")\n",
        "else:\n",
        "  pass"
      ]
    }
  ]
}